{
  "nbformat": 4,
  "nbformat_minor": 0,
  "metadata": {
    "colab": {
      "private_outputs": true,
      "provenance": []
    },
    "kernelspec": {
      "name": "python3",
      "display_name": "Python 3"
    },
    "language_info": {
      "name": "python"
    }
  },
  "cells": [
    {
      "cell_type": "markdown",
      "source": [
        "# STEP 1: IMPORT LIBRARIES AND LOAD DATA"
      ],
      "metadata": {
        "id": "VdEudBIMg_Fo"
      }
    },
    {
      "cell_type": "code",
      "execution_count": null,
      "metadata": {
        "id": "Boxind8Sd7MQ"
      },
      "outputs": [],
      "source": [
        "import pandas as pd\n",
        "import numpy as np\n",
        "import matplotlib.pyplot as plt\n",
        "import seaborn as sns\n",
        "from datetime import datetime\n",
        "import warnings\n",
        "warnings.filterwarnings('ignore')"
      ]
    },
    {
      "cell_type": "code",
      "source": [
        "# Define file names\n",
        "df1 = pd.read_csv(\"/content/fear_greed_index.csv\")  # Your first dataset\n",
        "df2 = pd.read_csv('/content/historical_data.csv')  # Your second dataset"
      ],
      "metadata": {
        "id": "I1Rb7zk-hL0g"
      },
      "execution_count": null,
      "outputs": []
    },
    {
      "cell_type": "code",
      "source": [
        "df1.head(2)"
      ],
      "metadata": {
        "id": "5YEiqqX5hZkN"
      },
      "execution_count": null,
      "outputs": []
    },
    {
      "cell_type": "code",
      "source": [
        "df2.head(2)"
      ],
      "metadata": {
        "id": "j7wRqxQnhbAN"
      },
      "execution_count": null,
      "outputs": []
    },
    {
      "cell_type": "code",
      "source": [
        "# Combine datasets\n",
        "df = pd.concat([df1, df2], ignore_index=True)"
      ],
      "metadata": {
        "id": "40OLY3MZhhNy"
      },
      "execution_count": null,
      "outputs": []
    },
    {
      "cell_type": "code",
      "source": [
        "print(\"Combined data ready!\")\n",
        "print(f\"Total trades: {len(df)}\")"
      ],
      "metadata": {
        "id": "zydrx_2Fhkzu"
      },
      "execution_count": null,
      "outputs": []
    },
    {
      "cell_type": "markdown",
      "source": [
        "# Question 1: Which coin made most money in both datasets?"
      ],
      "metadata": {
        "id": "EK2DECwahpQI"
      }
    },
    {
      "cell_type": "code",
      "source": [
        "profit_by_coin = df.groupby('Coin')['Closed PnL'].sum()\n",
        "profit_by_coin"
      ],
      "metadata": {
        "id": "Zzf-xCN0hmPU"
      },
      "execution_count": null,
      "outputs": []
    },
    {
      "cell_type": "code",
      "source": [
        "best_coin = profit_by_coin.idxmax()\n",
        "best_coin"
      ],
      "metadata": {
        "id": "542Lw8Ljhtym"
      },
      "execution_count": null,
      "outputs": []
    },
    {
      "cell_type": "code",
      "source": [
        "worst_coin = profit_by_coin.idxmin()\n",
        "worst_coin"
      ],
      "metadata": {
        "id": "YGvK2fkGhxME"
      },
      "execution_count": null,
      "outputs": []
    },
    {
      "cell_type": "code",
      "source": [
        "print(f\"🏆 BEST COIN: {best_coin} (${profit_by_coin[best_coin]:.2f})\")"
      ],
      "metadata": {
        "id": "cn8NspNmh2aD"
      },
      "execution_count": null,
      "outputs": []
    },
    {
      "cell_type": "code",
      "source": [
        "print(f\"📉 WORST COIN: {worst_coin} (${profit_by_coin[worst_coin]:.2f})\")"
      ],
      "metadata": {
        "id": "DPF0Jaoch7sn"
      },
      "execution_count": null,
      "outputs": []
    },
    {
      "cell_type": "code",
      "source": [
        "# Simple chart\n",
        "plt.figure(figsize=(8, 4))\n",
        "profit_by_coin.plot(kind='bar', color=['green' if x > 0 else 'red' for x in profit_by_coin])\n",
        "plt.title('Total Profit by Coin (Both Datasets)')\n",
        "plt.show()"
      ],
      "metadata": {
        "id": "gTZ8xX94h-0J"
      },
      "execution_count": null,
      "outputs": []
    },
    {
      "cell_type": "markdown",
      "source": [
        "# Question 2: What's my win rate across all trades?"
      ],
      "metadata": {
        "id": "G-juifvtiE7U"
      }
    },
    {
      "cell_type": "code",
      "source": [
        "win_rate = (df['Closed PnL'] > 0).mean() * 100\n",
        "win_rate"
      ],
      "metadata": {
        "id": "0VJbi24QiBB3"
      },
      "execution_count": null,
      "outputs": []
    },
    {
      "cell_type": "code",
      "source": [
        "total_profit = df['Closed PnL'].sum()\n",
        "total_profit"
      ],
      "metadata": {
        "id": "jApBZ4EWiJyh"
      },
      "execution_count": null,
      "outputs": []
    },
    {
      "cell_type": "code",
      "source": [
        "print(f\"✅ WIN RATE: {win_rate:.1f}%\")"
      ],
      "metadata": {
        "id": "4BdMS2s6iNWF"
      },
      "execution_count": null,
      "outputs": []
    },
    {
      "cell_type": "code",
      "source": [
        "print(f\"💰 TOTAL PROFIT: ${total_profit:.2f}\")"
      ],
      "metadata": {
        "id": "_XIZcovBiREQ"
      },
      "execution_count": null,
      "outputs": []
    },
    {
      "cell_type": "code",
      "source": [
        "# Simple pie chart\n",
        "labels = ['Winning Trades', 'Losing Trades']\n",
        "sizes = [win_rate, 100 - win_rate]\n",
        "plt.pie(sizes, labels=labels, autopct='%1.1f%%', colors=['green', 'red'])\n",
        "plt.title('Win/Loss Ratio')\n",
        "plt.show()"
      ],
      "metadata": {
        "id": "ItmyCU-XiYi5"
      },
      "execution_count": null,
      "outputs": []
    },
    {
      "cell_type": "markdown",
      "source": [
        "# Question 3: Which dataset was more profitable?"
      ],
      "metadata": {
        "id": "r00gO1OriduE"
      }
    },
    {
      "cell_type": "code",
      "source": [
        "df1['Dataset'] = 'First Dataset'\n",
        "df2['Dataset'] = 'Second Dataset'\n",
        "df_combined = pd.concat([df1, df2], ignore_index=True)\n",
        "df_combined.head(1)"
      ],
      "metadata": {
        "id": "o-qNCkvEiakB"
      },
      "execution_count": null,
      "outputs": []
    },
    {
      "cell_type": "code",
      "source": [
        "dataset_profit = df_combined.groupby('Dataset')['Closed PnL'].sum()\n",
        "dataset_profit"
      ],
      "metadata": {
        "id": "B9yG9evWikrY"
      },
      "execution_count": null,
      "outputs": []
    },
    {
      "cell_type": "code",
      "source": [
        "print(\"📊 Profit by Dataset:\")\n",
        "for dataset, profit in dataset_profit.items():\n",
        "    print(f\"   {dataset}: ${profit:.2f}\")"
      ],
      "metadata": {
        "id": "Hq6JFbGTin2p"
      },
      "execution_count": null,
      "outputs": []
    },
    {
      "cell_type": "code",
      "source": [
        "# Simple comparison\n",
        "plt.figure(figsize=(6, 4))\n",
        "dataset_profit.plot(kind='bar', color=['blue', 'orange'])\n",
        "plt.title('Profit: First vs Second Dataset')\n",
        "plt.show()"
      ],
      "metadata": {
        "id": "pZ91CvCgipZJ"
      },
      "execution_count": null,
      "outputs": []
    },
    {
      "cell_type": "markdown",
      "source": [
        "# Question 4: How many trades in each dataset?"
      ],
      "metadata": {
        "id": "0e8wUYkmiwRY"
      }
    },
    {
      "cell_type": "code",
      "source": [
        "trades_dataset1 = len(df1)\n",
        "trades_dataset2 = len(df2)\n",
        "\n",
        "print(f\"🔢 Number of Trades:\")\n",
        "print(f\"   First Dataset: {trades_dataset1} trades\")\n",
        "print(f\"   Second Dataset: {trades_dataset2} trades\")\n",
        "\n",
        "# Simple count\n",
        "plt.figure(figsize=(6, 4))\n",
        "plt.bar(['First Dataset', 'Second Dataset'], [trades_dataset1, trades_dataset2], color=['lightblue', 'lightcoral'])\n",
        "plt.title('Number of Trades in Each Dataset')\n",
        "plt.ylabel('Number of Trades')\n",
        "plt.show()"
      ],
      "metadata": {
        "id": "6uO5eIvyixgQ"
      },
      "execution_count": null,
      "outputs": []
    },
    {
      "cell_type": "markdown",
      "source": [
        "#  Question 5: When I trade more, do I make more money?"
      ],
      "metadata": {
        "id": "L-GxTPDui4dl"
      }
    },
    {
      "cell_type": "code",
      "source": [
        "# Simple correlation between trade size and profit\n",
        "plt.figure(figsize=(8, 4))\n",
        "plt.scatter(df['Size USD'], df['Closed PnL'], alpha=0.5)\n",
        "plt.axhline(y=0, color='red', linestyle='--', label='Break Even')\n",
        "plt.xlabel('Trade Size ($)')\n",
        "plt.ylabel('Profit/Loss ($)')\n",
        "plt.title('Does Bigger Trade Size = More Profit?')\n",
        "plt.legend()\n",
        "plt.show()\n",
        "\n",
        "# Simple answer\n",
        "correlation = df['Size USD'].corr(df['Closed PnL'])\n",
        "print(f\"📊 Size vs Profit Correlation: {correlation:.2f}\")\n",
        "print(\"✅ Positive = Bigger trades = More profit\")\n",
        "print(\"❌ Negative = Bigger trades = Less profit\")"
      ],
      "metadata": {
        "id": "E5o9yRZyjAGT"
      },
      "execution_count": null,
      "outputs": []
    },
    {
      "cell_type": "markdown",
      "source": [
        "# Simple Summary:"
      ],
      "metadata": {
        "id": "eqPmAkqljHdd"
      }
    },
    {
      "cell_type": "code",
      "source": [
        "print(\"\\n\" + \"=\"*50)\n",
        "print(\"📈 COMBINED TRADING SUMMARY (Both Datasets)\")\n",
        "print(\"=\"*50)\n",
        "\n",
        "print(f\"Total Trades: {len(df)}\")\n",
        "print(f\"Total Profit: ${df['Closed PnL'].sum():.2f}\")\n",
        "print(f\"Win Rate: {(df['Closed PnL'] > 0).mean()*100:.1f}%\")\n",
        "print(f\"Best Coin: {profit_by_coin.idxmax()}\")\n",
        "print(f\"Most Trades Dataset: {'First' if len(df1) > len(df2) else 'Second'}\")"
      ],
      "metadata": {
        "id": "8G9d8XpgjIga"
      },
      "execution_count": null,
      "outputs": []
    }
  ]
}